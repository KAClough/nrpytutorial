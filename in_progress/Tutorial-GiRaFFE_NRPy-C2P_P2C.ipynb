{
 "cells": [
  {
   "cell_type": "markdown",
   "metadata": {},
   "source": [
    "<script async src=\"https://www.googletagmanager.com/gtag/js?id=UA-59152712-8\"></script>\n",
    "<script>\n",
    "  window.dataLayer = window.dataLayer || [];\n",
    "  function gtag(){dataLayer.push(arguments);}\n",
    "  gtag('js', new Date());\n",
    "\n",
    "  gtag('config', 'UA-59152712-8');\n",
    "</script>\n",
    "\n",
    "# `GiRaFFE_NRPy` C code library: Conservative-to-Primitive and Primitive-to-Conservative Solvers\n",
    "\n",
    "## Author: Patrick Nelson\n",
    "\n",
    "<a id='intro'></a>\n",
    "\n",
    "**Notebook Status:** <font color=orange><b> Self-Validated </b></font>\n",
    "\n",
    "**Validation Notes:** These codes are modified versions of the working code used by the original `GiRaFFE`.\n",
    "\n",
    "## Introduction:\n",
    "This writes and documents the C code that `GiRaFFE_NRPy` uses in order to update the Valencia 3-velocity at each timestep. It also computes corrections to the densitized Poynting flux in order to keep the physical quantities from violating the GRFFE constraints. \n",
    "\n",
    "These algorithms are adapted from the original `GiRaFFE` code (see [arxiv:1704.00599v2](https://arxiv.org/abs/1704.00599v2)), based on the description in [arXiv:1310.3274v2](https://arxiv.org/pdf/1310.3274v2.pdf). They have been modified to work with the NRPy+ infrastructure instead of the Einstein Toolkit. They have also been modified to use the Valencia 3-velocity instead of the drift velocity."
   ]
  },
  {
   "cell_type": "markdown",
   "metadata": {},
   "source": [
    "<a id='toc'></a>\n",
    "\n",
    "# Table of Contents\n",
    "$$\\label{toc}$$\n",
    "\n",
    "This notebook is organized as follows\n",
    "\n",
    "1. [Step 1](#c2p): The conservative-to-primitive solver\n",
    "    1. [Step 1.a](#ortho_s_b): Enforce the orthogonality of $\\tilde{S}_i$ and $B^i$\n",
    "    1. [Step 1.b](#vel_cap): Rescale ${\\tilde S}_i$ to limit the Lorentz factor and enforce the velocity cap\n",
    "    1. [Step 1.c](#update_vel): Recompute the velocities at the new timestep\n",
    "    1. [Step 1.d](#current_sheet): Enforce the Current Sheet prescription\n",
    "1. [Step 2](#p2c): The primitive-to-conservative solver\n",
    "1. [Step 3](#code_validation): Code Validation against original C code\n",
    "1. [Step 4](#latex_pdf_output): Output this notebook to $\\LaTeX$-formatted PDF file"
   ]
  },
  {
   "cell_type": "code",
   "execution_count": 1,
   "metadata": {},
   "outputs": [],
   "source": [
    "# Step 0: Add NRPy's directory to the path\n",
    "# https://stackoverflow.com/questions/16780014/import-file-from-parent-directory\n",
    "import os,sys\n",
    "nrpy_dir_path = os.path.join(\"..\")\n",
    "if nrpy_dir_path not in sys.path:\n",
    "    sys.path.append(nrpy_dir_path)\n",
    "\n",
    "import os\n",
    "import cmdline_helper as cmd\n",
    "outdir = \"GiRaFFE_NRPy/GiRaFFE_Ccode_validation/\"\n",
    "cmd.mkdir(outdir)"
   ]
  },
  {
   "cell_type": "markdown",
   "metadata": {},
   "source": [
    "<a id='c2p'></a>\n",
    "\n",
    "# Step 1: The conservative-to-primitive solver \\[Back to [top](#toc)\\]\n",
    "$$\\label{c2p}$$\n",
    "\n",
    "We start with the Conservative-to-Primitive solver. This function is called after the vector potential and Poynting vector have been evolved at a timestep and updates the velocities. The algorithm will be as follows: \n",
    "\n",
    "1. Enforce the orthogonality of ${\\tilde S}_i$ and $B^i$\n",
    "    * ${\\tilde S}_i \\rightarrow {\\tilde S}_i - ({\\tilde S}_j {\\tilde B}^j) {\\tilde B}_i/{\\tilde B}^2$\n",
    "2. Rescale ${\\tilde S}_i$ to limit the Lorentz factor and enforce the velocity cap\n",
    "    * $f = \\sqrt{(1-\\gamma_{\\max}^{-2}){\\tilde B}^4/(16 \\pi^2 \\gamma {\\tilde S}^2)}$ \n",
    "    * ${\\tilde S}_i \\rightarrow {\\tilde S}_i \\min(1,f)$\n",
    "    3. Recompute the velocities at the new timestep\n",
    "    * $v^i = 4 \\pi \\gamma^{ij} {\\tilde S}_j \\gamma^{-1/2} B^{-2}$\n",
    "4. Enforce the Current Sheet prescription\n",
    "    * ${\\tilde n}_i v^i = 0$\n",
    "\n",
    "We will begin simply by creating the file. We will also `#include` the header file `<sys/time.h>` and define $\\pi$."
   ]
  },
  {
   "cell_type": "code",
   "execution_count": 2,
   "metadata": {},
   "outputs": [],
   "source": [
    "from outputC import *            # NRPy+: Core C code output module\n",
    "import finite_difference as fin  # NRPy+: Finite difference C code generation module\n",
    "import NRPy_param_funcs as par   # NRPy+: Parameter interface\n",
    "import grid as gri               # NRPy+: Functions having to do with numerical grids\n",
    "import loop as lp                # NRPy+: Generate C code loops\n",
    "import indexedexp as ixp         # NRPy+: Symbolic indexed expression (e.g., tensors, vectors, etc.) support\n",
    "import reference_metric as rfm   # NRPy+: Reference metric support\n",
    "import cmdline_helper as cmd     # NRPy+: Multi-platform Python command-line interface\n",
    "\n",
    "thismodule = \"GiRaFFE_NRPy-C2P_P2C\"\n",
    "\n",
    "# There are several C parameters that we will need in this module:\n",
    "M_PI  = par.Cparameters(\"#define\",thismodule,[\"M_PI\"], \"\")\n",
    "GAMMA_SPEED_LIMIT = par.Cparameters(\"REAL\",thismodule,\"GAMMA_SPEED_LIMIT\",10.0) # Default value based on\n",
    "                                                                                # IllinoisGRMHD.\n",
    "                                                                                # GiRaFFE default = 2000.0\n",
    "\n",
    "# Register the relevant gridfunctions:\n",
    "StildeD = ixp.register_gridfunctions_for_single_rank1(\"EVOL\",\"StildeD\")\n",
    "BU = ixp.register_gridfunctions_for_single_rank1(\"AUXEVOL\",\"BU\")\n",
    "ValenciavU = ixp.register_gridfunctions_for_single_rank1(\"AUXEVOL\",\"ValenciavU\")\n",
    "gammaDD = ixp.register_gridfunctions_for_single_rank2(\"AUXEVOL\",\"gammaDD\",\"sym01\")\n",
    "gammaUU = ixp.register_gridfunctions_for_single_rank2(\"AUXEVOL\",\"gammaUU\",\"sym01\")\n",
    "alpha,gammadet = gri.register_gridfunctions(\"AUXEVOL\",[\"alpha\",\"gammadet\"])\n",
    "betaU = ixp.register_gridfunctions_for_single_rank1(\"AUXEVOL\",\"betaU\")\n",
    "\n",
    "import GiRaFFE_NRPy.GiRaFFE_NRPy_C2P_P2C as C2P_P2C\n"
   ]
  },
  {
   "cell_type": "markdown",
   "metadata": {},
   "source": [
    "<a id='ortho_s_b'></a>\n",
    "\n",
    "## Step 1.a: Enforce the orthogonality of $\\tilde{S}_i$ and $B^i$ \\[Back to [top](#toc)\\]\n",
    "$$\\label{ortho_s_b}$$\n",
    "\n",
    "Now, we will enforce the orthogonality of the magnetic field and densitized poynting flux: \n",
    "$${\\tilde S}_i \\rightarrow {\\tilde S}_i - ({\\tilde S}_j {\\tilde B}^j) {\\tilde B}_i/{\\tilde B}^2$$\n",
    "First, we compute the inner products ${\\tilde S}_j {\\tilde B}^j$ and ${\\tilde B}^2 = \\gamma_{ij} {\\tilde B}^i {\\tilde B}^j,$ where $\\tilde{B}^i = B^i \\sqrt{\\gamma}$. Then, we subtract $({\\tilde S}_j {\\tilde B}^j) {\\tilde B}_i/{\\tilde B}^2$ from ${\\tilde S}_i$. We thus guarantee that ${\\tilde S}_i B^i=0$.\n",
    "\n",
    "\n",
    "Having fixed ${\\tilde S}_i$, we will also compute the related quantities ${\\tilde S}^i = \\gamma^{ij} {\\tilde S}_j$ and ${\\tilde S}^2 = {\\tilde S}_i {\\tilde S}^i$.\n",
    "\n",
    "Note also the macro `APPLY_GRFFE_FIXES`; by commenting out this one line, we can easily disable the GRFFE fixes for testing purposes. "
   ]
  },
  {
   "cell_type": "code",
   "execution_count": 3,
   "metadata": {},
   "outputs": [],
   "source": [
    "# First, we need to obtain the index-lowered form of Btilde^i and (Btilde^i)^2\n",
    "# Recall that Btilde^i = sqrtgamma*B^i\n",
    "sqrtgammadet = sp.sqrt(gammadet)\n",
    "BtildeU = ixp.zerorank1()\n",
    "for i in range(3):\n",
    "    # \\tilde{B}^i = B^i \\sqrt{\\gamma}\n",
    "    BtildeU[i] = sqrtgammadet*BU[i]\n",
    "\n",
    "BtildeD = ixp.zerorank1()\n",
    "for i in range(3):\n",
    "    for j in range(3):\n",
    "        BtildeD[j] += gammaDD[i][j]*BtildeU[i]\n",
    "        \n",
    "Btilde2 = sp.sympify(0)\n",
    "for i in range(3):\n",
    "    Btilde2 += BtildeU[i]*BtildeD[i]\n",
    "    \n",
    "# Then, enforce the orthogonality:\n",
    "if par.parval_from_str(\"enforce_orthogonality_StildeD_BtildeU\"):\n",
    "    for i in range(3):\n",
    "        for j in range(3):\n",
    "            # {\\tilde S}_i = {\\tilde S}_i - ({\\tilde S}_j {\\tilde B}^j) {\\tilde B}_i/{\\tilde B}^2\n",
    "            StildeD[i] -= (StildeD[j]*BtildeU[j])*BtildeD[i]/Btilde2\n"
   ]
  },
  {
   "cell_type": "markdown",
   "metadata": {},
   "source": [
    "<a id='vel_cap'></a>\n",
    "\n",
    "## Step 1.b: Rescale ${\\tilde S}_i$ to limit the Lorentz factor and enforce the velocity cap \\[Back to [top](#toc)\\]\n",
    "$$\\label{vel_cap}$$\n",
    "\n",
    "The next fix that we will apply limits the Lorentz factor. That is, we define the factor $f$ as \n",
    "$$f = \\sqrt{(1-\\Gamma_{\\max}^{-2}){\\tilde B}^4/(16 \\pi^2 \\gamma {\\tilde S}^2)}.$$\n",
    "\n",
    "If $f<1$, we rescale the components of ${\\tilde S}_i$ by $f$. That is, we must set\n",
    "$${\\tilde S}_i \\rightarrow {\\tilde S}_i \\min(1,f).$$\n",
    "\n",
    "Here, we will use a formulation of the `min()` function that does not use `if`:\n",
    "$$\n",
    "\\min(a,b) = \\tfrac{1}{2} \\left( a+b - \\lvert a-b \\rvert \\right),\n",
    "$$\n",
    "or, in code,\n",
    "```\n",
    "min_noif(a,b) = sp.Rational(1,2)*(a+b-nrpyAbs(a-b))\n",
    "```"
   ]
  },
  {
   "cell_type": "code",
   "execution_count": 4,
   "metadata": {},
   "outputs": [],
   "source": [
    "# Calculate \\tilde{S}^2:\n",
    "Stilde2 = sp.sympify(0)\n",
    "for i in range(3):\n",
    "    for j in range(3):\n",
    "        Stilde2 += gammaUU[i][j]*StildeD[i]*StildeD[j]\n",
    "\n",
    "# First we need to compute the factor f: \n",
    "# f = \\sqrt{(1-\\Gamma_{\\max}^{-2}){\\tilde B}^4/(16 \\pi^2 \\gamma {\\tilde S}^2)}\n",
    "speed_limit_factor = sp.sqrt((1-GAMMA_SPEED_LIMIT**(-2))\\\n",
    "                             *Btilde2*Btilde2/(16*M_PI*M_PI*sqrtgammadet*Stilde2*Stilde2))\n",
    "\n",
    "def min_noif(a,b):\n",
    "    # This returns the minimum of a and b\n",
    "    # If a>b, then we get 0.5*(a+b-a+b) = b\n",
    "    # If b>a, then we get 0.5*(a+b+a-b) = a\n",
    "    return sp.Rational(1,2)*(a+b-nrpyAbs(a-b))\n",
    "\n",
    "# Calculate B^2\n",
    "B2 = sp.sympify(0)\n",
    "for i in range(3):\n",
    "    for j in range(3):\n",
    "        B2 += gammaDD[i][j]*BU[i]*BU[j]\n",
    "\n",
    "# Enforce the speed limit on StildeD:\n",
    "if par.parval_from_str(\"enforce_speed_limit_StildeD\"):\n",
    "    for i in range(3):\n",
    "        StildeD[i] *= min_noif(1,speed_limit_factor)"
   ]
  },
  {
   "cell_type": "markdown",
   "metadata": {},
   "source": [
    "<a id='update_vel'></a>\n",
    "\n",
    "## Step 1.c: Recompute the velocities at the new timestep \\[Back to [top](#toc)\\]\n",
    "$$\\label{update_vel}$$\n",
    "\n",
    "Finally, we can calculate the velocities. In the source used, the equation to compute the drift velocity is given as \n",
    "$$v^i = 4 \\pi \\alpha \\gamma^{ij} {\\tilde S}_j \\gamma^{-1/2} B^{-2} - \\beta^i.$$\n",
    "However, we wish to use the Valencia velocity instead. Since the Valencia velocity $\\bar{v}^i = \\frac{1}{\\alpha} \\left( v^i + \\beta^i \\right)$, we will code \n",
    "$$\\bar{v}^i = 4 \\pi \\frac{\\gamma^{ij} {\\tilde S}_j}{\\sqrt{\\gamma} B^2}.$$\n"
   ]
  },
  {
   "cell_type": "code",
   "execution_count": 5,
   "metadata": {},
   "outputs": [],
   "source": [
    "if par.parval_from_str(\"enforce_orthogonality_StildeD_BtildeU\") or par.parval_from_str(\"enforce_speed_limit_StildeD\"):\n",
    "    # Recompute 3-velocity:\n",
    "    for i in range(3):\n",
    "        for j in range(3):\n",
    "            # \\bar{v}^i = 4 \\pi \\gamma^{ij} {\\tilde S}_j / (\\sqrt{\\gamma} B^2)\n",
    "            ValenciavU[i] = sp.sympify(4.0)*M_PI*gammaUU[i][j]*StildeD[j]/(sqrtgammadet*B2)\n"
   ]
  },
  {
   "cell_type": "markdown",
   "metadata": {},
   "source": [
    "<a id='current_sheet'></a>\n",
    "\n",
    "## Step 1.d: Enforce the Current Sheet prescription \\[Back to [top](#toc)\\]\n",
    "$$\\label{current_sheet}$$\n",
    "\n",
    "Now, we seek to handle any current sheets (a physically important phenomenon) that might form. This algorithm will preserve current sheets that form in the xy-plane by preventing our numerical scheme from dissipating them. After fixing the z-component of the velocity, we recompute the conservative variables $\\tilde{S}_i$ to be consistent with the new velocities.\n",
    "\n",
    "Thus, if we are within four gridpoints of $z=0$, we set the component of the velocity perpendicular to the current sheet to zero by $n_i v^i = 0$, where $n_i = \\gamma_{ij} n^j$ is a unit normal to the current sheet and $n^j = \\delta^{jz} = (0\\ 0\\ 1)$. For drift velocity, this means we just set $$v^z = -\\frac{\\gamma_{xz} v^x + \\gamma_{yz} v^y}{\\gamma_{zz}}.$$ This reduces to $v^z = 0$ in flat space, as one would expect. We then express the Valencia velocity in terms of the drift velocity as $\\bar{v}^i = \\frac{1}{\\alpha} \\left( v^i + \\beta^i \\right)$. The code also tracks the number of times this correction has been performed."
   ]
  },
  {
   "cell_type": "code",
   "execution_count": 6,
   "metadata": {},
   "outputs": [],
   "source": [
    "# We will use once more the trick from above with min and max without if. However, we we'll need a function\n",
    "# that returns either 0 or 1, so as to choose between two otherwise mathetmatically unrelated branches. \n",
    "def max_normal0(a):\n",
    "    # If a>0, return 1. Otherwise, return 0. This defines a 'less than' branch.\n",
    "    # WILL BREAK if a = 0. \n",
    "    return (a+nrpyAbs(a))/(2*a)\n",
    "\n",
    "def min_normal0(a):\n",
    "    # If a>0, return 1. Otherwise, return 0. This defines a 'greater than' branch.\n",
    "    # WILL BREAK if a = 0. \n",
    "    return (a-nrpyAbs(a))/(2*a)\n",
    "\n",
    "# This number determines how far away (in grid points) we will apply the fix.\n",
    "grid_points_from_z_plane = par.Cparameters(\"REAL\",thismodule,\"grid_points_from_z_plane\",4.0)\n",
    "# Set the Cartesian normal vector. This can be expanded later to arbitrary sheets and coordinate systems.\n",
    "nU = ixp.zerorank1()\n",
    "nU[2] = 1\n",
    "# Lower the index, as usual:\n",
    "nD = ixp.zerorank1()\n",
    "for i in range(3):\n",
    "    for j in range(3):\n",
    "        nD[i] = gammaDD[i][j]*nU[j]\n",
    "\n",
    "if par.parval_from_str(\"enforce_current_sheet_prescription\"):\n",
    "    # Calculate the drift velocity\n",
    "    driftvU = ixp.declarerank1(\"driftvU\")\n",
    "\n",
    "    inner_product = sp.sympify(0)\n",
    "    for i in range(3):\n",
    "        inner_product += driftvU[i]*nD[i] # This is the portion of the drift velocity normal to the z plane\n",
    "                                          # In flat space, this is just v^z\n",
    "    # We'll use a sympy utility to solve for v^z. This should make it easier to generalize later\n",
    "    newdriftvU2 = sp.solve(inner_product,driftvU[2])\n",
    "    newdriftvU2 = newdriftvU2[0] # In flat space this reduces to v^z=0\n",
    "    for i in range(3):\n",
    "        # Now, we substitute drift velocity in terms of our preferred Valencia velocity\n",
    "        newdriftvU2 = newdriftvU2.subs(driftvU[i],alpha*ValenciavU[i]-betaU[i])\n",
    "    # Now that we have the z component, it's time to substitute its Valencia form in.\n",
    "    # Remember, we only do this if abs(z) < (k+0.01)*dz. Note that we add 0.01; this helps\n",
    "    # avoid floating point errors and division by zero. This is the same as abs(z) - (k+0.01)*dz<0\n",
    "    boundary = nrpyAbs(rfm.xx[2]) - (grid_points_from_z_plane+sp.sympify(0.01))*gri.dxx[2]\n",
    "    ValenciavU[2] = max_normal0(boundary)*(newdriftvU2+betaU[2])/alpha \\\n",
    "                  + min_normal0(boundary)*ValenciavU[2]\n"
   ]
  },
  {
   "cell_type": "markdown",
   "metadata": {},
   "source": [
    "To finish out this portion of the algorithm, we include some diagnostic code (commented out for now) that compares the velocities before and after the current sheet prescription. We also write the new values of $\\tilde{S}_i$ to memory, since they may have been changed in the first or third  of the GRFFE fixes. "
   ]
  },
  {
   "cell_type": "markdown",
   "metadata": {},
   "source": [
    "<a id='p2c'></a>\n",
    "\n",
    "# Step 2: The primitive-to-conservative solver \\[Back to [top](#toc)\\]\n",
    "$$\\label{p2c}$$\n",
    "\n",
    "This function is used to recompute the conservatives $\\tilde{S}_i$ after the 3-velocity is changed as part of the current sheet prescription. It implements the same equation used to compute the initial Poynting flux from the initial velocity: $$\\tilde{S}_i = \\gamma_{ij} \\frac{\\bar{v}^j \\sqrt{\\gamma}B^2}{4 \\pi}$$ in terms of the Valencia 3-velocity. In the implementation here, we first calculate $B^2 = \\gamma_{ij} B^i B^j$, then $v_i = \\gamma_{ij} v^j$ before we calculate the equivalent expression $$\\tilde{S}_i = \\frac{\\bar{v}_j \\sqrt{\\gamma}B^2}{4 \\pi}.$$\n",
    "\n",
    "Here, we will simply let the NRPy+ `GRFFE` module handle this part, since that is already validated."
   ]
  },
  {
   "cell_type": "code",
   "execution_count": 7,
   "metadata": {},
   "outputs": [],
   "source": [
    "import GRFFE.equations as GRFFE\n",
    "import GRHD.equations as GRHD\n",
    "\n",
    "def GiRaFFE_NRPy_P2C(gammaDD,betaU,alpha,  ValenciavU,BU, sqrt4pi):\n",
    "    # After recalculating the 3-velocity, we need to update the poynting flux:\n",
    "    # We'll reset the Valencia velocity, since this will be part of a second call to outCfunction.\n",
    "    ValenciavU = ixp.declarerank1(\"ValenciavU\",DIM=3)\n",
    "\n",
    "    # First compute stress-energy tensor T4UU and T4UD:\n",
    "    GRHD.compute_sqrtgammaDET(gammaDD)\n",
    "    \n",
    "    GRHD.u4U_in_terms_of_ValenciavU__rescale_ValenciavU_by_applying_speed_limit(alpha, betaU, gammaDD, ValenciavU)\n",
    "    GRFFE.compute_smallb4U(gammaDD, betaU, alpha, GRHD.u4U_ito_ValenciavU, BU, sqrt4pi)\n",
    "    GRFFE.compute_smallbsquared(gammaDD, betaU, alpha, GRFFE.smallb4U)\n",
    "\n",
    "    GRFFE.compute_TEM4UU(gammaDD, betaU, alpha, GRFFE.smallb4U, GRFFE.smallbsquared, GRHD.u4U_ito_ValenciavU)\n",
    "    GRFFE.compute_TEM4UD(gammaDD, betaU, alpha, GRFFE.TEM4UU)\n",
    "\n",
    "    # Compute conservative variables in terms of primitive variables\n",
    "    GRHD.compute_S_tildeD(alpha, GRHD.sqrtgammaDET, GRFFE.TEM4UD)\n",
    "    global StildeD\n",
    "    StildeD = GRHD.S_tildeD\n"
   ]
  },
  {
   "cell_type": "markdown",
   "metadata": {},
   "source": [
    "<a id='code_validation'></a>\n",
    "\n",
    "# Step 3: Code Validation against original C code \\[Back to [top](#toc)\\]\n",
    "$$\\label{code_validation}$$\n",
    "\n",
    "To validate the code in this tutorial we check for agreement between the files\n",
    "\n",
    "1. that were written in this tutorial and\n",
    "1. those that are stored in `GiRaFFE_NRPy/GiRaFFE_Ccode_library`\n"
   ]
  },
  {
   "cell_type": "code",
   "execution_count": 8,
   "metadata": {},
   "outputs": [
    {
     "name": "stdout",
     "output_type": "stream",
     "text": [
      "ALL TESTS PASSED!\n"
     ]
    }
   ],
   "source": [
    "all_passed=True\n",
    "def comp_func(expr1,expr2,basename,prefixname2=\"C2P_P2C.\"):\n",
    "    if str(expr1-expr2)!=\"0\":\n",
    "        print(basename+\" - \"+prefixname2+basename+\" = \"+ str(expr1-expr2))\n",
    "        all_passed=False\n",
    "\n",
    "def gfnm(basename,idx1,idx2=None,idx3=None):\n",
    "    if idx2==None:\n",
    "        return basename+\"[\"+str(idx1)+\"]\"\n",
    "    if idx3==None:\n",
    "        return basename+\"[\"+str(idx1)+\"][\"+str(idx2)+\"]\"\n",
    "    return basename+\"[\"+str(idx1)+\"][\"+str(idx2)+\"][\"+str(idx3)+\"]\"\n",
    "\n",
    "# Still need to perform self-validation checks on C2P\n",
    "# testValenciavU = ixp.declarerank1(\"testValenciavU\",DIM=3)\n",
    "# testStildeD = ixp.declarerank1(\"testStildeDU\",DIM=3)\n",
    "gammaDD = ixp.declarerank2(\"gammaDD\",\"sym01\")\n",
    "betaU = ixp.declarerank1(\"betaU\")\n",
    "BU = ixp.declarerank1(\"BU\")\n",
    "alpha = sp.symbols('alpha',real=True)\n",
    "sqrt4pi = sp.symbols('sqrt4pi', real=True)\n",
    "\n",
    "notebook_StildeD = StildeD\n",
    "StildeD = ixp.declarerank1(\"StildeD\")\n",
    "\n",
    "C2P_P2C.GiRaFFE_NRPy_C2P(StildeD,BU,gammaDD,gammaUU,gammadet,betaU,alpha)\n",
    "\n",
    "expr_list = []\n",
    "exprcheck_list = []\n",
    "namecheck_list = []\n",
    "\n",
    "for i in range(3):\n",
    "    namecheck_list.extend([gfnm(\"StildeD\",i),gfnm(\"ValenciavU\",i)])\n",
    "    exprcheck_list.extend([C2P_P2C.outStildeD[i],C2P_P2C.ValenciavU[i]])\n",
    "    expr_list.extend([notebook_StildeD[i],ValenciavU[i]])\n",
    "\n",
    "for i in range(len(expr_list)):\n",
    "    comp_func(expr_list[i],exprcheck_list[i],namecheck_list[i])\n",
    "\n",
    "import sys\n",
    "if all_passed:\n",
    "    print(\"ALL TESTS PASSED!\")\n",
    "else:\n",
    "    print(\"ERROR: AT LEAST ONE TEST DID NOT PASS\")\n",
    "    sys.exit(1)"
   ]
  },
  {
   "cell_type": "code",
   "execution_count": 9,
   "metadata": {
    "scrolled": false
   },
   "outputs": [
    {
     "name": "stdout",
     "output_type": "stream",
     "text": [
      "ALL TESTS PASSED!\n"
     ]
    }
   ],
   "source": [
    "all_passed=True\n",
    "\n",
    "gammaDD = ixp.declarerank2(\"gammaDD\",\"sym01\")\n",
    "betaU = ixp.declarerank1(\"betaU\")\n",
    "ValenciavU = ixp.declarerank1(\"ValenciavU\")\n",
    "BU = ixp.declarerank1(\"BU\")\n",
    "alpha = sp.symbols('alpha',real=True)\n",
    "sqrt4pi = sp.symbols('sqrt4pi', real=True)\n",
    "GiRaFFE_NRPy_P2C(gammaDD,betaU,alpha,  ValenciavU,BU, sqrt4pi)\n",
    "\n",
    "C2P_P2C.GiRaFFE_NRPy_P2C(gammaDD,betaU,alpha,  ValenciavU,BU, sqrt4pi)\n",
    "\n",
    "expr_list = []\n",
    "exprcheck_list = []\n",
    "namecheck_list = []\n",
    "\n",
    "for i in range(3):\n",
    "    namecheck_list.extend([gfnm(\"StildeD\",i)])\n",
    "    exprcheck_list.extend([C2P_P2C.StildeD[i]])\n",
    "    expr_list.extend([StildeD[i]])\n",
    "\n",
    "for i in range(len(expr_list)):\n",
    "    comp_func(expr_list[i],exprcheck_list[i],namecheck_list[i])\n",
    "\n",
    "import sys\n",
    "if all_passed:\n",
    "    print(\"ALL TESTS PASSED!\")\n",
    "else:\n",
    "    print(\"ERROR: AT LEAST ONE TEST DID NOT PASS\")\n",
    "    sys.exit(1)\n",
    "        "
   ]
  },
  {
   "cell_type": "markdown",
   "metadata": {},
   "source": [
    "<a id='latex_pdf_output'></a>\n",
    "\n",
    "# Step 4: Output this notebook to $\\LaTeX$-formatted PDF file \\[Back to [top](#toc)\\]\n",
    "$$\\label{latex_pdf_output}$$\n",
    "\n",
    "The following code cell converts this Jupyter notebook into a proper, clickable $\\LaTeX$-formatted PDF file. After the cell is successfully run, the generated PDF may be found in the root NRPy+ tutorial directory, with filename\n",
    "[Tutorial-GiRaFFE_NRPy-C2P_P2C.pdf](Tutorial-GiRaFFE_NRPy-C2P_P2C.pdf) (Note that clicking on this link may not work; you may need to open the PDF file through another means.)"
   ]
  },
  {
   "cell_type": "code",
   "execution_count": 10,
   "metadata": {},
   "outputs": [
    {
     "name": "stdout",
     "output_type": "stream",
     "text": [
      "This is pdfTeX, Version 3.14159265-2.6-1.40.18 (TeX Live 2017/Debian) (preloaded format=pdflatex)\n",
      " restricted \\write18 enabled.\n",
      "entering extended mode\n",
      "This is pdfTeX, Version 3.14159265-2.6-1.40.18 (TeX Live 2017/Debian) (preloaded format=pdflatex)\n",
      " restricted \\write18 enabled.\n",
      "entering extended mode\n",
      "This is pdfTeX, Version 3.14159265-2.6-1.40.18 (TeX Live 2017/Debian) (preloaded format=pdflatex)\n",
      " restricted \\write18 enabled.\n",
      "entering extended mode\n"
     ]
    }
   ],
   "source": [
    "!jupyter nbconvert --to latex --template latex_nrpy_style.tplx --log-level='WARN' Tutorial-GiRaFFE_NRPy-C2P_P2C.ipynb\n",
    "!pdflatex -interaction=batchmode Tutorial-GiRaFFE_NRPy-C2P_P2C.tex\n",
    "!pdflatex -interaction=batchmode Tutorial-GiRaFFE_NRPy-C2P_P2C.tex\n",
    "!pdflatex -interaction=batchmode Tutorial-GiRaFFE_NRPy-C2P_P2C.tex\n",
    "!rm -f Tut*.out Tut*.aux Tut*.log"
   ]
  }
 ],
 "metadata": {
  "kernelspec": {
   "display_name": "Python 3",
   "language": "python",
   "name": "python3"
  },
  "language_info": {
   "codemirror_mode": {
    "name": "ipython",
    "version": 3
   },
   "file_extension": ".py",
   "mimetype": "text/x-python",
   "name": "python",
   "nbconvert_exporter": "python",
   "pygments_lexer": "ipython3",
   "version": "3.8.0"
  }
 },
 "nbformat": 4,
 "nbformat_minor": 2
}
