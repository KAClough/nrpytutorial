{
 "cells": [
  {
   "cell_type": "markdown",
   "metadata": {},
   "source": [
    "<script async src=\"https://www.googletagmanager.com/gtag/js?id=UA-59152712-8\"></script>\n",
    "<script>\n",
    "  window.dataLayer = window.dataLayer || [];\n",
    "  function gtag(){dataLayer.push(arguments);}\n",
    "  gtag('js', new Date());\n",
    "\n",
    "  gtag('config', 'UA-59152712-8');\n",
    "</script>\n",
    "\n",
    "# `GiRaFFE_NRPy`: A-to-B code\n",
    "\n",
    "## Author: Patrick Nelson\n",
    "\n",
    "<a id='intro'></a>\n",
    "\n",
    "**Notebook Status:** <font color=orange><b> Self-Validated </b></font>\n",
    "\n",
    "**Validation Notes:** This code produces the expected magnetic fields for Exact Wald, Aligned Rotator, and Alfv&eacute;n Wave initial data.\n",
    "\n",
    "# This module presents the functionality of [GiRaFFE_NRPy_A2B.py](../edit/GiRaFFE_NRPy/GiRaFFE_NRPy_A2B.py) and builds on it by providing C code to incorporate the generated header files into `GiRaFFE`.\n",
    "\n",
    "## Introduction: \n",
    "This writes and documents the C code that `GiRaFFE_NRPy` uses to compute the magnetic fields from the vector potential. This is a relatively straightforward calculation, but requires care to be taken in the ghost zones. \n",
    "\n",
    "We will need to compute $B^i$ everywhere in order to evolve $\\tilde{S}_i$. However, $B^i = \\epsilon^{ijk} \\partial_j A_k$ requires derivatives of $A_i$, so getting $B^i$ in the ghostzones (and not just on the interior) will require some finesse. A chief aspect of this will require using lower-order finite differencing in the ghost zones. To that end, we will create header files for each finite differencing order $\\leq 10$, as well as upwinded- and downwinded-derivatives at 2nd order. These will let us compute the derivative at the outermost gridpoints.\n"
   ]
  },
  {
   "cell_type": "markdown",
   "metadata": {},
   "source": [
    "<a id='toc'></a>\n",
    "\n",
    "# Table of Contents\n",
    "$$\\label{toc}$$\n",
    "\n",
    "This notebook is organized as follows\n",
    "\n",
    "1. [Step 1](#magnetic_field): Creating the header files\n",
    "1. [Step 2](#ccode): C code\n",
    "    1. [Step 2.a](#a2b): Deciding which header file to use\n",
    "    1. [Step 2.b](#driver): Looping over all ghostzones\n",
    "1. [Step 3](#code_validation): Code Validation against original C code\n",
    "1. [Step 4](#latex_pdf_output): Output this notebook to $\\LaTeX$-formatted PDF file"
   ]
  },
  {
   "cell_type": "code",
   "execution_count": 1,
   "metadata": {},
   "outputs": [],
   "source": [
    "# Step 0: Add NRPy's directory to the path\n",
    "# https://stackoverflow.com/questions/16780014/import-file-from-parent-directory\n",
    "import os,sys\n",
    "nrpy_dir_path = os.path.join(\"..\")\n",
    "if nrpy_dir_path not in sys.path:\n",
    "    sys.path.append(nrpy_dir_path)\n",
    "\n",
    "import os\n",
    "import cmdline_helper as cmd\n",
    "outdir = \"GiRaFFE_NRPy/GiRaFFE_Ccode_validation/A2B/\"\n",
    "cmd.mkdir(outdir)"
   ]
  },
  {
   "cell_type": "markdown",
   "metadata": {},
   "source": [
    "<a id='magnetic_field'></a>\n",
    "\n",
    "## Step 1: The Magnetic Field \\[Back to [top](#toc)\\]\n",
    "$$\\label{magnetic_field}$$\n",
    "\n",
    "We start in the usual way - import the modules we need and set `DIM = 3`. We will also import the Levi-Civita symbol from `WeylScalars_Cartesian` and use it to set the Levi-Civita tensor $\\epsilon^{ijk} = [ijk]/\\sqrt{\\gamma}$."
   ]
  },
  {
   "cell_type": "code",
   "execution_count": 2,
   "metadata": {},
   "outputs": [],
   "source": [
    "# Step 1: The A-to-B driver\n",
    "from outputC import *            # NRPy+: Core C code output module\n",
    "import finite_difference as fin  # NRPy+: Finite difference C code generation module\n",
    "import NRPy_param_funcs as par   # NRPy+: Parameter interface\n",
    "import grid as gri               # NRPy+: Functions having to do with numerical grids\n",
    "import indexedexp as ixp         # NRPy+: Symbolic indexed expression (e.g., tensors, vectors, etc.) support\n",
    "\n",
    "# Set spatial dimension (must be 3 for BSSN)\n",
    "DIM = 3\n",
    "par.set_parval_from_str(\"grid::DIM\",DIM)\n",
    "\n",
    "# Set the finite-differencing order to 2\n",
    "par.set_parval_from_str(\"finite_difference::FD_CENTDERIVS_ORDER\", 2)\n",
    "\n",
    "# Register the gridfunction gammadet. This determinant will be calculated separately\n",
    "gammadet = gri.register_gridfunctions(\"AUXEVOL\",\"gammadet\")\n",
    "\n",
    "# Import the Levi-Civita symbol and build the corresponding tensor.\n",
    "# We already have a handy function to define the Levi-Civita symbol in WeylScalars\n",
    "import WeylScal4NRPy.WeylScalars_Cartesian as weyl\n",
    "LeviCivitaDDD = weyl.define_LeviCivitaSymbol_rank3()\n",
    "LeviCivitaUUU = ixp.zerorank3()\n",
    "for i in range(DIM):\n",
    "    for j in range(DIM):\n",
    "        for k in range(DIM):\n",
    "            LCijk = LeviCivitaDDD[i][j][k]\n",
    "            #LeviCivitaDDD[i][j][k] = LCijk * sp.sqrt(gho.gammadet)\n",
    "            LeviCivitaUUU[i][j][k] = LCijk / sp.sqrt(gammadet)\n"
   ]
  },
  {
   "cell_type": "markdown",
   "metadata": {},
   "source": [
    "We will now create the structures we need: register the gridfunctions `AD` and `BU`, declare `AD_dD` for $A_{i,j}$ and zero `BU` for $B^i$. Then, we'll build the standard form of `BU` that we will use: $$B^i = \\epsilon^{ijk} A_{k,j}.$$"
   ]
  },
  {
   "cell_type": "code",
   "execution_count": 3,
   "metadata": {},
   "outputs": [],
   "source": [
    "# Step 1.a: A useful function\n",
    "AD = ixp.register_gridfunctions_for_single_rank1(\"EVOL\",\"AD\")\n",
    "BU = ixp.register_gridfunctions_for_single_rank1(\"AUXEVOL\",\"BU\")\n",
    "AD_dD = ixp.declarerank2(\"AD_dD\",\"nosym\")\n",
    "BU = ixp.zerorank1() # BU is already registered as a gridfunction, but we need to zero its values and declare it in this scope.\n",
    "\n",
    "for i in range(DIM):\n",
    "    for j in range(DIM):\n",
    "        for k in range(DIM):\n",
    "            BU[i] += LeviCivitaUUU[i][j][k] * AD_dD[k][j]\n"
   ]
  },
  {
   "cell_type": "markdown",
   "metadata": {},
   "source": [
    "<a id='ccode'></a>\n",
    "\n",
    "## Step 2: C code \\[Back to [top](#toc)\\]\n",
    "$$\\label{ccode}$$\n",
    "\n",
    "<a id='a2b'></a>\n",
    "\n",
    "### Step 2.a: Deciding which header file to use \\[Back to [top](#toc)\\]\n",
    "$$\\label{a2b}$$\n",
    "\n",
    "The rest of this file will consist of two functions. The first, `compute_A2B_in_ghostzones()`, will loop over the region specified by `i0min`, `i0max`, `i1min`, `i1max`, `i2min`, and `i2max`, passed to the function from the driver function. At each point, we consider the derivatives in each of the three directions that we will need to compute the curl; if we are on the edge of the grid, we will shift the stencil we use one point so that it no longer extends to outside our computational domain. Once we have all the derivatives we will need, we simply calculate the magnetic field as we otherwise would."
   ]
  },
  {
   "cell_type": "markdown",
   "metadata": {},
   "source": [
    "<a id='ccode'></a>\n",
    "\n",
    "## Step 2: C code \\[Back to [top](#toc)\\]\n",
    "$$\\label{ccode}$$\n",
    "\n",
    "With the header files created to actually calculate $B^i$ from $A_k$, we will write the C code to direct how those are used. We will start by including needed header files. We will then define `REAL` as type `double` (so that we can easily change it everywhere if we want to use a different precision) and the `IDX` macros that we use to access specific points in the gridfunction arrays. "
   ]
  },
  {
   "cell_type": "code",
   "execution_count": 4,
   "metadata": {},
   "outputs": [
    {
     "name": "stdout",
     "output_type": "stream",
     "text": [
      "Overwriting GiRaFFE_NRPy/GiRaFFE_Ccode_validation/A2B//driver_AtoB.h\n"
     ]
    }
   ],
   "source": [
    "%%writefile $outdir/driver_AtoB.h\n",
    "#include <math.h>\n",
    "#include <stdio.h>\n",
    "#include <stdlib.h>\n",
    "\n",
    "#ifndef REAL\n",
    "#define REAL double\n",
    "#include \"NGHOSTS.h\" // A NRPy+-generated file, which is set based on FD_CENTDERIVS_ORDER.\n",
    "#include \"../CurviBoundaryConditions/gridfunction_defines.h\"\n",
    "#define IDX4S(g,i,j,k) \\\n",
    "( (i) + Nxx_plus_2NGHOSTS0 * ( (j) + Nxx_plus_2NGHOSTS1 * ( (k) + Nxx_plus_2NGHOSTS2 * (g) ) ) )\n",
    "#endif\n"
   ]
  },
  {
   "cell_type": "code",
   "execution_count": 5,
   "metadata": {},
   "outputs": [
    {
     "name": "stdout",
     "output_type": "stream",
     "text": [
      "Overwriting GiRaFFE_NRPy/GiRaFFE_Ccode_validation/A2B//driver_AtoB.h\n"
     ]
    }
   ],
   "source": [
    "%%writefile $outdir/driver_AtoB.h\n",
    "void compute_A2B_in_ghostzones(const paramstruct *restrict params,REAL *restrict in_gfs,REAL *restrict auxevol_gfs,\n",
    "                                      const int i0min,const int i0max, \n",
    "                                      const int i1min,const int i1max, \n",
    "                                      const int i2min,const int i2max) {\n",
    "#include \"set_Cparameters.h\"\n",
    "    for(int i2=i2min;i2<i2max;i2++) for(int i1=i1min;i1<i1max;i1++) for(int i0=i0min;i0<i0max;i0++) {\n",
    "        REAL dx_Ay,dx_Az,dy_Ax,dy_Az,dz_Ax,dz_Ay;\n",
    "        // Check to see if we're on the +x or -x face. If so, use a downwinded- or upwinded-stencil, respectively.\n",
    "        // Otherwise, use a centered stencil.\n",
    "        if (i0 > 0 && i0 < Nxx_plus_2NGHOSTS0-1) {\n",
    "            dx_Ay = invdx0*(-1.0/2.0*in_gfs[IDX4S(AD1GF, i0-1,i1,i2)] + (1.0/2.0)*in_gfs[IDX4S(AD1GF, i0+1,i1,i2)]);\n",
    "            dx_Az = invdx0*(-1.0/2.0*in_gfs[IDX4S(AD2GF, i0-1,i1,i2)] + (1.0/2.0)*in_gfs[IDX4S(AD2GF, i0+1,i1,i2)]);\n",
    "        }\n",
    "        else if (i0==0) {\n",
    "            dx_Ay = invdx0*(-3.0/2.0*in_gfs[IDX4S(AD1GF, i0,i1,i2)] + 2*in_gfs[IDX4S(AD1GF, i0+1,i1,i2)] - 1.0/2.0*in_gfs[IDX4S(AD1GF, i0+2,i1,i2)]);\n",
    "            dx_Az = invdx0*(-3.0/2.0*in_gfs[IDX4S(AD2GF, i0,i1,i2)] + 2*in_gfs[IDX4S(AD2GF, i0+1,i1,i2)] - 1.0/2.0*in_gfs[IDX4S(AD2GF, i0+2,i1,i2)]);\n",
    "        }\n",
    "        else {\n",
    "            dx_Ay = invdx0*((3.0/2.0)*in_gfs[IDX4S(AD1GF, i0,i1,i2)] - 2*in_gfs[IDX4S(AD1GF, i0-1,i1,i2)] + (1.0/2.0)*in_gfs[IDX4S(AD1GF, i0-2,i1,i2)]);\n",
    "            dx_Az = invdx0*((3.0/2.0)*in_gfs[IDX4S(AD2GF, i0,i1,i2)] - 2*in_gfs[IDX4S(AD2GF, i0-1,i1,i2)] + (1.0/2.0)*in_gfs[IDX4S(AD2GF, i0-2,i1,i2)]);\n",
    "        }\n",
    "        // As above, but in the y direction.\n",
    "        if (i1 > 0 && i1 < Nxx_plus_2NGHOSTS1-1) {\n",
    "            dy_Ax = invdx1*(-1.0/2.0*in_gfs[IDX4S(AD0GF, i0,i1-1,i2)] + (1.0/2.0)*in_gfs[IDX4S(AD0GF, i0,i1+1,i2)]);\n",
    "            dy_Az = invdx1*(-1.0/2.0*in_gfs[IDX4S(AD2GF, i0,i1-1,i2)] + (1.0/2.0)*in_gfs[IDX4S(AD2GF, i0,i1+1,i2)]);\n",
    "        }\n",
    "        else if (i1==0) {\n",
    "            dy_Ax = invdx1*(-3.0/2.0*in_gfs[IDX4S(AD0GF, i0,i1,i2)] + 2*in_gfs[IDX4S(AD0GF, i0,i1+1,i2)] - 1.0/2.0*in_gfs[IDX4S(AD0GF, i0,i1+2,i2)]);\n",
    "            dy_Az = invdx1*(-3.0/2.0*in_gfs[IDX4S(AD2GF, i0,i1,i2)] + 2*in_gfs[IDX4S(AD2GF, i0,i1+1,i2)] - 1.0/2.0*in_gfs[IDX4S(AD2GF, i0,i1+2,i2)]);\n",
    "        }\n",
    "        else {\n",
    "            dy_Ax = invdx1*((3.0/2.0)*in_gfs[IDX4S(AD0GF, i0,i1,i2)] - 2*in_gfs[IDX4S(AD0GF, i0,i1-1,i2)] + (1.0/2.0)*in_gfs[IDX4S(AD0GF, i0,i1-2,i2)]);\n",
    "            dy_Az = invdx1*((3.0/2.0)*in_gfs[IDX4S(AD2GF, i0,i1,i2)] - 2*in_gfs[IDX4S(AD2GF, i0,i1-1,i2)] + (1.0/2.0)*in_gfs[IDX4S(AD2GF, i0,i1-2,i2)]);\n",
    "        }\n",
    "        // As above, but in the z direction.\n",
    "        if (i2 > 0 && i2 < Nxx_plus_2NGHOSTS2-1) {\n",
    "            dz_Ax = invdx2*(-1.0/2.0*in_gfs[IDX4S(AD0GF, i0,i1,i2-1)] + (1.0/2.0)*in_gfs[IDX4S(AD0GF, i0,i1,i2+1)]);\n",
    "            dz_Ay = invdx2*(-1.0/2.0*in_gfs[IDX4S(AD1GF, i0,i1,i2-1)] + (1.0/2.0)*in_gfs[IDX4S(AD1GF, i0,i1,i2+1)]);\n",
    "        }\n",
    "        else if (i2==0) {\n",
    "            dz_Ax = invdx2*(-3.0/2.0*in_gfs[IDX4S(AD0GF, i0,i1,i2)] + 2*in_gfs[IDX4S(AD0GF, i0,i1,i2+1)] - 1.0/2.0*in_gfs[IDX4S(AD0GF, i0,i1,i2+2)]);\n",
    "            dz_Ay = invdx2*(-3.0/2.0*in_gfs[IDX4S(AD1GF, i0,i1,i2)] + 2*in_gfs[IDX4S(AD1GF, i0,i1,i2+1)] - 1.0/2.0*in_gfs[IDX4S(AD1GF, i0,i1,i2+2)]);\n",
    "        }\n",
    "        else {\n",
    "            dz_Ax = invdx2*((3.0/2.0)*in_gfs[IDX4S(AD0GF, i0,i1,i2)] - 2*in_gfs[IDX4S(AD0GF, i0,i1,i2-1)] + (1.0/2.0)*in_gfs[IDX4S(AD0GF, i0,i1,i2-2)]);\n",
    "            dz_Ay = invdx2*((3.0/2.0)*in_gfs[IDX4S(AD1GF, i0,i1,i2)] - 2*in_gfs[IDX4S(AD1GF, i0,i1,i2-1)] + (1.0/2.0)*in_gfs[IDX4S(AD1GF, i0,i1,i2-2)]);\n",
    "        }\n",
    "        // Compute the magnetic field in the normal way, using the previously calculated derivatives.\n",
    "        const REAL sqrtgammadet = sqrt(auxevol_gfs[IDX4S(GAMMADETGF, i0,i1,i2)]);\n",
    "        auxevol_gfs[IDX4S(BU0GF, i0,i1,i2)] = (dy_Az-dz_Ay)/sqrtgammadet;\n",
    "        auxevol_gfs[IDX4S(BU1GF, i0,i1,i2)] = (dz_Ax-dx_Az)/sqrtgammadet;\n",
    "        auxevol_gfs[IDX4S(BU2GF, i0,i1,i2)] = (dx_Ay-dy_Ax)/sqrtgammadet;\n",
    "    }\n",
    "}\n"
   ]
  },
  {
   "cell_type": "markdown",
   "metadata": {},
   "source": [
    "<a id='driver'></a>\n",
    "\n",
    "### Step 2.b: Looping over all ghostzones \\[Back to [top](#toc)\\]\n",
    "$$\\label{driver}$$\n",
    "\n",
    "This function is responsible for driving the logic needed to compute $B^i$ from $A_i$ whenever it is needed in the main code (typically done along with applying BCs after a timestep in the main code). We first calculate the order that we want on the interior of the grid from the parameter `NGHOSTS`. We set the boundaries `imin` and `imax` such that they define the interior of the grid. We also poison the values of $B^i$ by setting them to `NaN` everywhere: this will allow us to immediately tell if something is causing us to skip a point in the rest of the algorithm. \n",
    "\n",
    "With the preliminaries handled, we call `AtoB` at `ORDER` (which is being used for the rest of the derivatives throughout `GiRaFFE`). Note that `imin` and `imax` are passed such that they define the interior of the grid, and that the `FACEX` parameters are all `NUL` here. "
   ]
  },
  {
   "cell_type": "code",
   "execution_count": 6,
   "metadata": {},
   "outputs": [],
   "source": [
    "desc=\"Compute the magnetic field from the vector potential everywhere, including ghostzones\"\n",
    "name=\"driver_A_to_B\"\n",
    "driver_Ccode = outCfunction(\n",
    "    outfile  = \"returnstring\", desc=desc, name=name,\n",
    "    params   = \"const paramstruct *restrict params,REAL *restrict in_gfs,REAL *restrict auxevol_gfs\",\n",
    "    body     = fin.FD_outputC(\"returnstring\",[lhrh(lhs=gri.gfaccess(\"out_gfs\",\"BU0\"),rhs=BU[0]),\\\n",
    "                                              lhrh(lhs=gri.gfaccess(\"out_gfs\",\"BU1\"),rhs=BU[1]),\\\n",
    "                                              lhrh(lhs=gri.gfaccess(\"out_gfs\",\"BU2\"),rhs=BU[2])],\n",
    "                              params=\"outCverbose=False\").replace(\"IDX4\",\"IDX4S\"),\n",
    "    postloop = \"\"\"\n",
    "    int imin[3] = { NGHOSTS_A2B, NGHOSTS_A2B, NGHOSTS_A2B };\n",
    "    int imax[3] = { NGHOSTS+Nxx0, NGHOSTS+Nxx1, NGHOSTS+Nxx2 };\n",
    "    // Now, we loop over the ghostzones to calculate the magnetic field there. \n",
    "    for(int which_gz = 0; which_gz < NGHOSTS_A2B; which_gz++) {\n",
    "        // After updating each face, adjust imin[] and imax[] \n",
    "        //   to reflect the newly-updated face extents.\n",
    "        compute_A2B_in_ghostzones(params,in_gfs,auxevol_gfs,imin[0]-1,imin[0], imin[1],imax[1], imin[2],imax[2]); imin[0]--;\n",
    "        compute_A2B_in_ghostzones(params,in_gfs,auxevol_gfs,imax[0],imax[0]+1, imin[1],imax[1], imin[2],imax[2]); imax[0]++;\n",
    "\n",
    "        compute_A2B_in_ghostzones(params,in_gfs,auxevol_gfs,imin[0],imax[0], imin[1]-1,imin[1], imin[2],imax[2]); imin[1]--;\n",
    "        compute_A2B_in_ghostzones(params,in_gfs,auxevol_gfs,imin[0],imax[0], imax[1],imax[1]+1, imin[2],imax[2]); imax[1]++;\n",
    "\n",
    "        compute_A2B_in_ghostzones(params,in_gfs,auxevol_gfs,imin[0],imax[0], imin[1],imax[1], imin[2]-1,imin[2]); imin[2]--;\n",
    "        compute_A2B_in_ghostzones(params,in_gfs,auxevol_gfs,imin[0],imax[0], imin[1],imax[1], imax[2],imax[2]+1); imax[2]++;\n",
    "    }\n",
    "\"\"\",\n",
    "    loopopts=\"InteriorPoints\").replace(\"=NGHOSTS\",\"=NGHOSTS_A2B\").replace(\"NGHOSTS+Nxx0\",\"Nxx_plus_2NGHOSTS0-NGHOSTS_A2B\").replace(\"NGHOSTS+Nxx1\",\"Nxx_plus_2NGHOSTS1-NGHOSTS_A2B\").replace(\"NGHOSTS+Nxx2\",\"Nxx_plus_2NGHOSTS2-NGHOSTS_A2B\")\n",
    "\n",
    "with open(os.path.join(outdir,\"driver_AtoB.h\"),\"a\") as file:\n",
    "    file.write(driver_Ccode)\n"
   ]
  },
  {
   "cell_type": "markdown",
   "metadata": {},
   "source": [
    "Now, we will handle the ghost zones. We first step down the order the next lower even number. Then, for each face (taking care to match the region specified by the `imin` and `imax` parameters with the appropriate `FACEX` values), we calculate $B^i$ in the innermost ghostzone. We also decrement `imin` and increment `imax`. This serves two purposes: the next time through the loop, `AtoB` will operate on the next-outer ghost zone, and the size of each face will increase, eventually allowing us to act on each point. \n",
    "\n",
    "We then repeat the process for each lower (even!) order until we reach the outermost ghost zone. "
   ]
  },
  {
   "cell_type": "markdown",
   "metadata": {},
   "source": [
    "<a id='code_validation'></a>\n",
    "\n",
    "# Step 3: Code Validation against original C code \\[Back to [top](#toc)\\]\n",
    "$$\\label{code_validation}$$\n",
    "\n",
    "To validate the code in this tutorial we check for agreement between the files\n",
    "\n",
    "1. that were written in this tutorial and\n",
    "1. those that are stored in `GiRaFFE_NRPy/GiRaFFE_Ccode_library` or generated by `GiRaFFE_NRPy_A2B.py`\n"
   ]
  },
  {
   "cell_type": "code",
   "execution_count": 7,
   "metadata": {
    "scrolled": false
   },
   "outputs": [
    {
     "name": "stdout",
     "output_type": "stream",
     "text": [
      "Printing difference between original C code and this code...\n",
      "Checking file driver_AtoB.h\n",
      "No difference. TEST PASSED!\n"
     ]
    }
   ],
   "source": [
    "# Reset the list of gridfunctions, as registering a gridfunction\n",
    "#   twice will spawn an error.\n",
    "gri.glb_gridfcs_list = []\n",
    "\n",
    "# Define the directory that we wish to validate against:\n",
    "valdir = \"GiRaFFE_NRPy/GiRaFFE_Ccode_library/A2B/\"\n",
    "\n",
    "import GiRaFFE_NRPy.GiRaFFE_NRPy_A2B as A2B\n",
    "A2B.GiRaFFE_NRPy_A2B(valdir)\n",
    "\n",
    "import difflib\n",
    "import sys\n",
    "\n",
    "print(\"Printing difference between original C code and this code...\")\n",
    "# Open the files to compare\n",
    "file = \"driver_AtoB.h\"\n",
    "\n",
    "print(\"Checking file \" + file)\n",
    "with open(os.path.join(valdir+file)) as file1, open(os.path.join(outdir+file)) as file2:\n",
    "    # Read the lines of each file\n",
    "    file1_lines = file1.readlines()\n",
    "    file2_lines = file2.readlines()\n",
    "    num_diffs = 0\n",
    "    for line in difflib.unified_diff(file1_lines, file2_lines, fromfile=os.path.join(valdir+file), tofile=os.path.join(outdir+file)):\n",
    "        sys.stdout.writelines(line)\n",
    "        num_diffs = num_diffs + 1\n",
    "    if num_diffs == 0:\n",
    "        print(\"No difference. TEST PASSED!\")\n",
    "    else:\n",
    "        print(\"ERROR: Disagreement found with .py file. See differences above.\")"
   ]
  },
  {
   "cell_type": "markdown",
   "metadata": {},
   "source": [
    "<a id='latex_pdf_output'></a>\n",
    "\n",
    "# Step 4: Output this notebook to $\\LaTeX$-formatted PDF file \\[Back to [top](#toc)\\]\n",
    "$$\\label{latex_pdf_output}$$\n",
    "\n",
    "The following code cell converts this Jupyter notebook into a proper, clickable $\\LaTeX$-formatted PDF file. After the cell is successfully run, the generated PDF may be found in the root NRPy+ tutorial directory, with filename\n",
    "[Tutorial-GiRaFFE_NRPy_C_code_library-A2B](TTutorial-GiRaFFE_NRPy_C_code_library-A2B.pdf) (Note that clicking on this link may not work; you may need to open the PDF file through another means.)"
   ]
  },
  {
   "cell_type": "code",
   "execution_count": 8,
   "metadata": {},
   "outputs": [
    {
     "name": "stdout",
     "output_type": "stream",
     "text": [
      "This is pdfTeX, Version 3.14159265-2.6-1.40.18 (TeX Live 2017/Debian) (preloaded format=pdflatex)\n",
      " restricted \\write18 enabled.\n",
      "entering extended mode\n",
      "This is pdfTeX, Version 3.14159265-2.6-1.40.18 (TeX Live 2017/Debian) (preloaded format=pdflatex)\n",
      " restricted \\write18 enabled.\n",
      "entering extended mode\n",
      "This is pdfTeX, Version 3.14159265-2.6-1.40.18 (TeX Live 2017/Debian) (preloaded format=pdflatex)\n",
      " restricted \\write18 enabled.\n",
      "entering extended mode\n"
     ]
    }
   ],
   "source": [
    "!jupyter nbconvert --to latex --template latex_nrpy_style.tplx --log-level='WARN' Tutorial-GiRaFFE_NRPy-A2B.ipynb\n",
    "!pdflatex -interaction=batchmode Tutorial-GiRaFFE_NRPy-A2B.tex\n",
    "!pdflatex -interaction=batchmode Tutorial-GiRaFFE_NRPy-A2B.tex\n",
    "!pdflatex -interaction=batchmode Tutorial-GiRaFFE_NRPy-A2B.tex\n",
    "!rm -f Tut*.out Tut*.aux Tut*.log"
   ]
  }
 ],
 "metadata": {
  "kernelspec": {
   "display_name": "Python 3",
   "language": "python",
   "name": "python3"
  },
  "language_info": {
   "codemirror_mode": {
    "name": "ipython",
    "version": 3
   },
   "file_extension": ".py",
   "mimetype": "text/x-python",
   "name": "python",
   "nbconvert_exporter": "python",
   "pygments_lexer": "ipython3",
   "version": "3.8.0"
  }
 },
 "nbformat": 4,
 "nbformat_minor": 2
}
